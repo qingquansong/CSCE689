{
 "cells": [
  {
   "cell_type": "markdown",
   "metadata": {},
   "source": [
    "### Introduction of the ideas"
   ]
  },
  {
   "cell_type": "markdown",
   "metadata": {},
   "source": [
    "The core idea of my improved action detection model is to leverage the ensemble learning by extracting and fusing the last layer feature maps learned from different pretrained models. A simple way to fuse the features is to concatenate them and append a linear classification head in the end."
   ]
  },
  {
   "cell_type": "code",
   "execution_count": 1,
   "metadata": {},
   "outputs": [],
   "source": [
    "import os\n",
    "import sys\n",
    "import json\n",
    "import numpy as np\n",
    "import torch\n",
    "from torch import nn\n",
    "from torch import optim\n",
    "from torch.optim import lr_scheduler\n",
    "\n",
    "from opts import parse_opts\n",
    "from mean import get_mean, get_std\n",
    "from spatial_transforms import (\n",
    "    Compose, Normalize, Scale, CenterCrop, CornerCrop, MultiScaleCornerCrop,\n",
    "    MultiScaleRandomCrop, RandomHorizontalFlip, ToTensor)\n",
    "from temporal_transforms import LoopPadding, TemporalRandomCrop\n",
    "from target_transforms import ClassLabel, VideoID\n",
    "from target_transforms import Compose as TargetCompose\n",
    "from dataset import get_training_set, get_validation_set, get_test_set\n",
    "from utils import Logger\n",
    "from train import train_epoch\n",
    "from validation import val_epoch\n",
    "import test\n",
    "import collections\n",
    "from sklearn.svm import LinearSVC\n",
    "from sklearn.svm import SVC\n",
    "from joblib import dump, load\n",
    "from sklearn import preprocessing\n",
    "from scipy import stats\n",
    "from sklearn.metrics import accuracy_score\n",
    "\n",
    "from models import *"
   ]
  },
  {
   "cell_type": "code",
   "execution_count": 2,
   "metadata": {},
   "outputs": [],
   "source": [
    "# use two gpu devices on the server, you can customize it depending on how many available gpu devices you have\n",
    "os.environ['CUDA_VISIBLE_DEVICES']='0'"
   ]
  },
  {
   "cell_type": "markdown",
   "metadata": {},
   "source": [
    "### Set hyperparameters "
   ]
  },
  {
   "cell_type": "code",
   "execution_count": 3,
   "metadata": {},
   "outputs": [],
   "source": [
    "\n",
    "import easydict\n",
    "opt = easydict.EasyDict({\n",
    "    \"result_path\": 'hw5_results',      # 'Result directory path'\n",
    "    \"dataset\": 'ucf101-music',      # 'Used dataset‘\n",
    "    \"n_classes\": 9,                 # 'Number of classes for fine-tuning'\n",
    "    \"sample_size\": 112,             # 'Height and width of inputs'\n",
    "    \"sample_duration\": 16,          # 'Temporal duration of inputs'\n",
    "    \"initial_scale\": 1.0,           # 'Initial scale for multiscale cropping')\n",
    "    \"n_scales\": 5,                  # 'Number of scales for multiscale cropping'\n",
    "    \"scale_step\": 0.84089641525,    # 'Scale step for multiscale cropping'\n",
    "    \"train_crop\": 'corner',         # 'Spatial cropping method in training. Corner is selection from 4 corners and 1 center.\n",
    "    \"learning_rate\": 0.1,           # 'Initial learning rate (divided by 10 while training by lr scheduler)'\n",
    "    \"momentum\": 0.9,                # 'Momentum'\n",
    "    \"dampening\": 0.9,               # 'Dampening of SGD'\n",
    "    \"weight_decay\": 0.001,          # 'Weight decay in SGD'\n",
    "    \"mean_dataset\": 'kinetics',     # 'Dataset for mean values of mean subtraction'\n",
    "    \"no_mean_norm\": False,          # 'If true, inputs are not normalized by mean'\n",
    "    \"std_norm\": False,              # 'If true, inputs are normalized by standard deviation'\n",
    "    \"nesterov\": False,              # 'Nesterov momentum'\n",
    "    \"optimizer\": 'sgd',             # 'Optimizer type'\n",
    "    \"lr_patience\": 10,              # 'Patience of LR scheduler. See documentation of Reduce on Loss Plateau Decay (ReduceLROnPlateau). https://www.deeplearningwizard.com/deep_learning/boosting_models_pytorch/lr_scheduling/#reduce-on-loss-plateau-decay'\n",
    "    \"batch_size\": 32,               # 'Batch size'\n",
    "    \"n_epochs\": 2,                  # 'Fine-tuning epochs'\n",
    "    \"begin_epoch\": 1,               # 'Training begins at this epoch. Previous trained model indicated by resume_path is loaded.'\n",
    "    \"n_val_samples\": 3,             # 'Number of validation samples for each activity'\n",
    "    \"ft_begin_index\": 5,            # 'Begin block index of fine-tuning'\n",
    "    \"scale_in_test\": 1.0,           # 'Spatial scale in test'\n",
    "    \"crop_position_in_test\": 'c',   #  Cropping method: center cropping\n",
    "    \"no_softmax_in_test\": False,    # 'If true, output for each clip is not normalized using softmax.'\n",
    "    \"no_cuda\": False,               # 'If true, cuda is not used.'\n",
    "    \"n_threads\": 4,                 # 'Number of threads for multi-thread loading'\n",
    "    \"checkpoint\": 2,                #  Trained model is saved at every this epochs'\n",
    "    \"no_hflip\": False,              # 'If true holizontal flipping is not performed'\n",
    "    \"norm_value\": 1,                # 'If 1, range of inputs is [0-255]. If 255, range of inputs is [0-1].'\n",
    "    \"model_depth\": 101,             # 'Depth of resnet \n",
    "    \"resnet_shortcut\": 'B',         # 'Shortcut type of resnet' to align the dimensionality for skip connection\n",
    "    \"wide_resnet_k\": 2,             # 'Wide resnet k'\n",
    "    \"resnext_cardinality\": 32,      # 'ResNeXt cardinality'\n",
    "    \"manual_seed\": 1,               # 'Manually set random seed'\n",
    "    'test_subset': 'test',          # 'Used test subset name'\n",
    "})\n",
    "# opt.arch = '{}-{}'.format(opt.model, opt.model_depth)\n",
    "opt.root_path = '/data/qq/CSCE689/'\n",
    "opt.video_path = opt.root_path + 'video/UCF-music/'\n",
    "opt.annotation_path = opt.root_path + 'video/UCF-music-annotation/ucf101_music_with_testing.json'"
   ]
  },
  {
   "cell_type": "markdown",
   "metadata": {},
   "source": [
    "### Load and preprocess UCF-music dataset"
   ]
  },
  {
   "cell_type": "code",
   "execution_count": 4,
   "metadata": {},
   "outputs": [
    {
     "name": "stdout",
     "output_type": "stream",
     "text": [
      "dataset loading [0/911]\n",
      "dataset loading [0/207]\n",
      "dataset loading [0/149]\n"
     ]
    }
   ],
   "source": [
    "# load preprocessed video frames and annotation\n",
    "from datasets.ucf101 import UCF101\n",
    "\n",
    "mean = get_mean(opt.norm_value, dataset='kinetics')\n",
    "std = get_std(opt.norm_value)\n",
    "norm_method = Normalize(mean, [1,1,1])\n",
    "\n",
    "\n",
    "spatial_transform = Compose([\n",
    "    Scale(opt.sample_size),\n",
    "    CornerCrop(opt.sample_size, 'c'),\n",
    "    ToTensor(opt.norm_value), norm_method\n",
    "])\n",
    "\n",
    "temporal_transform = LoopPadding(opt.sample_duration)\n",
    "target_transform = ClassLabel() # VideoID()\n",
    "\n",
    "# get training data\n",
    "training_data = UCF101(\n",
    "    opt.video_path,\n",
    "    opt.annotation_path,\n",
    "    'training',\n",
    "    0,\n",
    "    spatial_transform=spatial_transform,\n",
    "    temporal_transform=temporal_transform,\n",
    "    target_transform=target_transform,\n",
    "    sample_duration=16)\n",
    "\n",
    "# wrap training data\n",
    "train_loader = torch.utils.data.DataLoader(\n",
    "    training_data,\n",
    "    batch_size=opt.batch_size,\n",
    "    shuffle=False,\n",
    "    num_workers=opt.n_threads,\n",
    "    pin_memory=False) # True\n",
    "\n",
    "\n",
    "# get validation data\n",
    "val_data = UCF101(\n",
    "    opt.video_path,\n",
    "    opt.annotation_path,\n",
    "    'validation',\n",
    "    0,\n",
    "    spatial_transform=spatial_transform,\n",
    "    temporal_transform=temporal_transform,\n",
    "    target_transform=target_transform,\n",
    "    sample_duration=16)\n",
    "\n",
    "# wrap validation data\n",
    "val_loader = torch.utils.data.DataLoader(\n",
    "    val_data,\n",
    "    batch_size=opt.batch_size,\n",
    "    shuffle=False,\n",
    "    num_workers=opt.n_threads,\n",
    "    pin_memory=False) \n",
    "\n",
    "\n",
    "\n",
    "# Directly predict videoID for test data\n",
    "target_transform = VideoID()\n",
    "\n",
    "# get test data\n",
    "test_data = UCF101(\n",
    "    opt.video_path,\n",
    "    opt.annotation_path,\n",
    "    'testing',\n",
    "    0,\n",
    "    spatial_transform=spatial_transform,\n",
    "    temporal_transform=temporal_transform,\n",
    "    target_transform=target_transform,\n",
    "    sample_duration=16)\n",
    "\n",
    "\n",
    "# wrap test data\n",
    "test_loader = torch.utils.data.DataLoader(\n",
    "    test_data,\n",
    "    batch_size=opt.batch_size,\n",
    "    shuffle=False,\n",
    "    num_workers=opt.n_threads,\n",
    "    pin_memory=False)"
   ]
  },
  {
   "cell_type": "markdown",
   "metadata": {},
   "source": [
    "### Extract features of ResNeXt - 101 and save in disk"
   ]
  },
  {
   "cell_type": "code",
   "execution_count": 9,
   "metadata": {},
   "outputs": [],
   "source": [
    "# from models import resnext\n",
    "\n",
    "# # construct model architecture\n",
    "# model_rxt101 = resnext.resnet101(\n",
    "#                 num_classes=opt.n_classes,\n",
    "#                 shortcut_type=opt.resnet_shortcut,\n",
    "#                 cardinality=opt.resnext_cardinality,\n",
    "#                 sample_size=opt.sample_size,\n",
    "#                 sample_duration=opt.sample_duration)\n",
    "\n",
    "# model_rxt101 = model_rxt101.cuda()\n",
    "# # wrap the current model again in nn.DataParallel / or we can just remove the .module keys.\n",
    "# model_rxt101 = nn.DataParallel(model_rxt101, device_ids=None)\n",
    "\n",
    "\n",
    "# ### Load pretrained weight\n",
    "# # customize the pretrained model path\n",
    "# pretrain = torch.load(opt.root_path + 'pretrain/resnext-101-kinetics.pth')\n",
    "# pretrain_dict = pretrain['state_dict']\n",
    "\n",
    "# # do not load the last layer since we want to fine-tune it\n",
    "# pretrain_dict.pop('module.fc.weight')\n",
    "# pretrain_dict.pop('module.fc.bias')\n",
    "# model_dict = model_rxt101.state_dict()\n",
    "# model_dict.update(pretrain_dict) \n",
    "# model_rxt101.load_state_dict(model_dict)"
   ]
  },
  {
   "cell_type": "code",
   "execution_count": 10,
   "metadata": {},
   "outputs": [],
   "source": [
    "# # register layer index to extract the features by forwarding all the video clips\n",
    "# activation = {}\n",
    "# def get_activation(name):\n",
    "#     def hook(model, input, output):\n",
    "#         activation[name] = output.detach()\n",
    "#     return hook\n",
    "\n",
    "# model_rxt101.module.avgpool.register_forward_hook(get_activation('avgpool'))\n",
    "# model_rxt101.eval()\n",
    "\n",
    "\n",
    "# # forward all the videos to extract features\n",
    "# avgpool, avgpool_val, avgpool_test = [], [], []\n",
    "# targets, targets_val, targets_test = [], [], []\n",
    "# with torch.no_grad():\n",
    "#     print(\"Extract train set features:\")\n",
    "#     for i, (inputs, target) in enumerate(train_loader):\n",
    "#         if i % 30 == 0:\n",
    "#             print(i)\n",
    "#         output = model_rxt101(inputs)\n",
    "#         avgpool.append(activation['avgpool'].view(len(target), -1).cpu())\n",
    "#         targets.append(target)\n",
    "    \n",
    "#     print(\"Extract val set features:\")\n",
    "#     for i, (inputs, target) in enumerate(val_loader):\n",
    "#         if i % 30 == 0:\n",
    "#             print(i)\n",
    "#         output = model_rxt101(inputs)\n",
    "#         avgpool_val.append(activation['avgpool'].view(len(target), -1).cpu())\n",
    "#         targets_val.append(target)\n",
    " \n",
    "#     print(\"Extract test set features:\")\n",
    "#     for i, (inputs, target) in enumerate(test_loader):\n",
    "#         if i % 30 == 0:\n",
    "#             print(i)\n",
    "#         output = model_rxt101(inputs)\n",
    "#         avgpool_test.append(activation['avgpool'].view(len(target), -1).cpu())\n",
    "#         targets_test.append(target)\n",
    "\n",
    "# # save the features\n",
    "# avgpool_np = np.concatenate([i.numpy() for i in avgpool], axis=0)\n",
    "# np.save('./features/resnext101_avgpool_train.npy', avgpool_np)\n",
    "\n",
    "# targets_np = np.concatenate([i.numpy() for i in targets], axis=0)\n",
    "# np.save('./features/class_names_ucf_train.npy', targets_np)\n",
    "\n",
    "# avgpool_val_np = np.concatenate([i.numpy() for i in avgpool_val], axis=0)\n",
    "# np.save('./features/resnext101_avgpool_val.npy', avgpool_val_np)\n",
    "\n",
    "# targets_val_np = np.concatenate([i.numpy() for i in targets_val], axis=0)\n",
    "# np.save('./features/class_names_ucf_val.npy', targets_val_np)\n",
    "\n",
    "# avgpool_test_np = np.concatenate([i.numpy() for i in avgpool_test], axis=0)\n",
    "# np.save('./features/resnext101_avgpool_test.npy', avgpool_test_np)\n",
    "\n",
    "# targets_test_np = np.concatenate(np.array(targets_test), axis=0)\n",
    "# np.save('./features/class_names_ucf_test.npy', targets_test_np)"
   ]
  },
  {
   "cell_type": "markdown",
   "metadata": {},
   "source": [
    "### Extract features of ResNet-50 and save in disk"
   ]
  },
  {
   "cell_type": "code",
   "execution_count": 11,
   "metadata": {},
   "outputs": [
    {
     "name": "stderr",
     "output_type": "stream",
     "text": [
      "/home/qq/CSCE689/3D-ResNets-PyTorch/models/resnet.py:145: UserWarning: nn.init.kaiming_normal is now deprecated in favor of nn.init.kaiming_normal_.\n",
      "  m.weight = nn.init.kaiming_normal(m.weight, mode='fan_out')\n"
     ]
    },
    {
     "data": {
      "text/plain": [
       "<All keys matched successfully>"
      ]
     },
     "execution_count": 11,
     "metadata": {},
     "output_type": "execute_result"
    }
   ],
   "source": [
    "# from models import resnet\n",
    "\n",
    "# # construct model architecture\n",
    "# model_rt50 = resnet.resnet50(\n",
    "#                 num_classes=opt.n_classes,\n",
    "#                 shortcut_type=opt.resnet_shortcut,\n",
    "#                 sample_size=opt.sample_size,\n",
    "#                 sample_duration=opt.sample_duration)\n",
    "\n",
    "# model_rt50 = model_rt50.cuda()\n",
    "# # wrap the current model again in nn.DataParallel / or we can just remove the .module keys.\n",
    "# model_rt50 = nn.DataParallel(model_rt50, device_ids=None)\n",
    "\n",
    "\n",
    "# ### Load pretrained weight\n",
    "# # customize the pretrained model path\n",
    "# pretrain = torch.load(opt.root_path + 'pretrain/resnet-50-kinetics.pth')\n",
    "# pretrain_dict = pretrain['state_dict']\n",
    "\n",
    "# # do not load the last layer since we want to fine-tune it\n",
    "# pretrain_dict.pop('module.fc.weight')\n",
    "# pretrain_dict.pop('module.fc.bias')\n",
    "# model_dict = model_rt50.state_dict()\n",
    "# model_dict.update(pretrain_dict) \n",
    "# model_rt50.load_state_dict(model_dict)\n"
   ]
  },
  {
   "cell_type": "code",
   "execution_count": 8,
   "metadata": {},
   "outputs": [],
   "source": [
    "# # register layer index to extract the features by forwarding all the video clips\n",
    "# activation = {}\n",
    "# def get_activation(name):\n",
    "#     def hook(model, input, output):\n",
    "#         activation[name] = output.detach()\n",
    "#     return hook\n",
    "\n",
    "# model_rt50.module.avgpool.register_forward_hook(get_activation('avgpool'))\n",
    "# model_rt50.eval()\n",
    "\n",
    "\n",
    "# # forward all the videos to extract features\n",
    "# avgpool, avgpool_val, avgpool_test = [], [], []\n",
    "# with torch.no_grad():\n",
    "#     print(\"Extract train set features:\")\n",
    "#     for i, (inputs, target) in enumerate(train_loader):\n",
    "#         if i % 30 == 0:\n",
    "#             print(i)\n",
    "#         output = model_rt50(inputs)\n",
    "#         avgpool.append(activation['avgpool'].view(len(target), -1).cpu())\n",
    "    \n",
    "#     print(\"Extract val set features:\")\n",
    "#     for i, (inputs, target) in enumerate(val_loader):\n",
    "#         if i % 30 == 0:\n",
    "#             print(i)\n",
    "#         output = model_rt50(inputs)\n",
    "#         avgpool_val.append(activation['avgpool'].view(len(target), -1).cpu())\n",
    " \n",
    "#     print(\"Extract test set features:\")\n",
    "#     for i, (inputs, target) in enumerate(test_loader):\n",
    "#         if i % 30 == 0:\n",
    "#             print(i)\n",
    "#         output = model_rt50(inputs)\n",
    "#         avgpool_test.append(activation['avgpool'].view(len(target), -1).cpu())\n",
    "\n",
    "# # save the features\n",
    "# avgpool_np = np.concatenate([i.numpy() for i in avgpool], axis=0)\n",
    "# np.save('./features/resnet50_avgpool_train.npy', avgpool_np)\n",
    "\n",
    "# avgpool_val_np = np.concatenate([i.numpy() for i in avgpool_val], axis=0)\n",
    "# np.save('./features/resnet50_avgpool_val.npy', avgpool_val_np)\n",
    "\n",
    "# avgpool_test_np = np.concatenate([i.numpy() for i in avgpool_test], axis=0)\n",
    "# np.save('./features/resnet50_avgpool_test.npy', avgpool_test_np)"
   ]
  },
  {
   "cell_type": "markdown",
   "metadata": {},
   "source": [
    "### Load and fuse (concatenate) features and fine-tune an appended classification layer"
   ]
  },
  {
   "cell_type": "code",
   "execution_count": 12,
   "metadata": {},
   "outputs": [],
   "source": [
    "x_train_1 = np.load('./features/resnext101_avgpool_train.npy')\n",
    "x_train_2 = np.load('./features/resnet50_avgpool_train.npy')\n",
    "\n",
    "x_val_1 = np.load('./features/resnext101_avgpool_val.npy')\n",
    "x_val_2 = np.load('./features/resnet50_avgpool_val.npy')\n",
    "\n",
    "x_test_1 = np.load('./features/resnext101_avgpool_test.npy')\n",
    "x_test_2 = np.load('./features/resnet50_avgpool_test.npy')\n",
    "\n",
    "y_train = np.load('./features/class_names_ucf_train.npy')\n",
    "y_val = np.load('./features/class_names_ucf_val.npy')\n",
    "y_test = np.load('./features/class_names_ucf_test.npy')\n",
    "y = np.concatenate([y_train, y_val], axis=0)\n",
    "\n",
    "x_train = np.concatenate([x_train_1, x_train_2], axis=1)\n",
    "x_val = np.concatenate([x_val_1, x_val_2], axis=1)\n",
    "x_test = np.concatenate([x_test_1, x_test_2], axis=1)\n",
    "X = np.concatenate([x_train, x_val], axis=0)"
   ]
  },
  {
   "cell_type": "code",
   "execution_count": 13,
   "metadata": {},
   "outputs": [
    {
     "data": {
      "text/plain": [
       "((15737, 4096),\n",
       " (3364, 4096),\n",
       " (2586, 4096),\n",
       " (15737,),\n",
       " (3364,),\n",
       " array(['v_PlayingTabla_g04_c04', 'v_PlayingTabla_g04_c04',\n",
       "        'v_PlayingTabla_g04_c04', ..., 'v_PlayingDaf_g02_c02',\n",
       "        'v_PlayingDaf_g02_c02', 'v_PlayingDaf_g02_c02'], dtype='<U23'))"
      ]
     },
     "execution_count": 13,
     "metadata": {},
     "output_type": "execute_result"
    }
   ],
   "source": [
    "x_train.shape, x_val.shape, x_test.shape, y_train.shape, y_val.shape, y_test"
   ]
  },
  {
   "cell_type": "markdown",
   "metadata": {},
   "source": [
    "### Fine-tune the pretrained model on the targe UCF-101 dataset"
   ]
  },
  {
   "cell_type": "markdown",
   "metadata": {},
   "source": [
    "#### Fit three linear SVM on (1) ResNeXt features (2) ResNet features (3) Combined features"
   ]
  },
  {
   "cell_type": "code",
   "execution_count": 21,
   "metadata": {},
   "outputs": [
    {
     "data": {
      "text/plain": [
       "SVC(C=1, break_ties=False, cache_size=200, class_weight=None, coef0=0.0,\n",
       "    decision_function_shape='ovr', degree=3, gamma='scale', kernel='linear',\n",
       "    max_iter=-1, probability=True, random_state=42, shrinking=True, tol=0.001,\n",
       "    verbose=False)"
      ]
     },
     "execution_count": 21,
     "metadata": {},
     "output_type": "execute_result"
    }
   ],
   "source": [
    "# # Import library for support vector machine classifier\n",
    "# from sklearn.svm import SVC\n",
    "\n",
    "# # Create a support vector classifier\n",
    "# clf1 = SVC(C=1, kernel='linear', random_state=42, probability=True)\n",
    "# clf2 = SVC(C=1, kernel='linear', random_state=42, probability=True)\n",
    "# clf = SVC(C=1, kernel='linear', random_state=42, probability=True) # combine\n",
    "\n",
    "\n",
    "# # Train the model using the training sets\n",
    "# clf1.fit(x_train_1, y_train)\n",
    "# clf2.fit(x_train_2, y_train)\n",
    "# clf.fit(x_train, y_train) # combine"
   ]
  },
  {
   "cell_type": "code",
   "execution_count": 22,
   "metadata": {},
   "outputs": [
    {
     "data": {
      "text/plain": [
       "['./hw5_results/linearsvc.joblib']"
      ]
     },
     "execution_count": 22,
     "metadata": {},
     "output_type": "execute_result"
    }
   ],
   "source": [
    "# # save model\n",
    "# dump(clf1, './hw5_results/linearsvc1.joblib') \n",
    "# dump(clf2, './hw5_results/linearsvc2.joblib') \n",
    "# dump(clf, './hw5_results/linearsvc.joblib') "
   ]
  },
  {
   "cell_type": "code",
   "execution_count": 14,
   "metadata": {},
   "outputs": [],
   "source": [
    "# load model\n",
    "clf1 = load('./hw5_results/linearsvc1.joblib') \n",
    "clf2 = load('./hw5_results/linearsvc2.joblib') \n",
    "clf = load('./hw5_results/linearsvc.joblib') "
   ]
  },
  {
   "cell_type": "code",
   "execution_count": 15,
   "metadata": {},
   "outputs": [],
   "source": [
    "# Get Test Probability\n",
    "y_test_prob1 = clf1.predict_proba(x_test_1)\n",
    "y_test_prob2 = clf2.predict_proba(x_test_2)\n",
    "y_test_prob = clf.predict_proba(x_test)"
   ]
  },
  {
   "cell_type": "code",
   "execution_count": 15,
   "metadata": {},
   "outputs": [],
   "source": [
    "# # cross validation (take long time)\n",
    "# from sklearn.model_selection import GridSearchCV\n",
    "# from sklearn.metrics import make_scorer\n",
    "\n",
    "\n",
    "# # Create a dictionary for all the hyperparameters\n",
    "# hps = {\n",
    "#   'C': [0.05, 0.1, 0.5, 1, 5, 10],\n",
    "#   'kernel': ['linear', 'rbf'],  \n",
    "# }\n",
    "\n",
    "# # Construct a scoring function for performance estimation.\n",
    "# scoring_fnc = make_scorer(accuracy_score)\n",
    "\n",
    "# # Create the grid search cv object (5-fold cross-validation)\n",
    "# grid_search = GridSearchCV(estimator=clf, \n",
    "#                            param_grid=hps, \n",
    "#                            scoring=scoring_fnc, \n",
    "#                            cv=3,\n",
    "#                            verbose=5,\n",
    "#                            n_jobs=10) \n",
    "\n",
    "# # Fit the grid search object to the training data to search the optimal model\n",
    "# grid_search = grid_search.fit(X, y)"
   ]
  },
  {
   "cell_type": "markdown",
   "metadata": {},
   "source": [
    "### Test, compare the model in hw4 and hw5"
   ]
  },
  {
   "cell_type": "markdown",
   "metadata": {},
   "source": [
    "#### Performance of the resnext101 model in hw4"
   ]
  },
  {
   "cell_type": "code",
   "execution_count": 16,
   "metadata": {},
   "outputs": [
    {
     "name": "stdout",
     "output_type": "stream",
     "text": [
      "General Accuracy: 0.8918918918918919\n",
      "\n",
      "               precision    recall  f1-score   support\n",
      "\n",
      " PlayingCello       0.93      0.81      0.87        16\n",
      "   PlayingDaf       1.00      1.00      1.00        17\n",
      "  PlayingDhol       0.75      0.86      0.80        21\n",
      " PlayingFlute       1.00      0.85      0.92        20\n",
      "PlayingGuitar       1.00      1.00      1.00        16\n",
      " PlayingPiano       0.92      1.00      0.96        12\n",
      " PlayingSitar       0.95      1.00      0.98        20\n",
      " PlayingTabla       0.80      0.57      0.67        14\n",
      "PlayingViolin       0.69      0.92      0.79        12\n",
      "\n",
      "     accuracy                           0.89       148\n",
      "    macro avg       0.89      0.89      0.89       148\n",
      " weighted avg       0.90      0.89      0.89       148\n",
      "\n"
     ]
    },
    {
     "data": {
      "image/png": "[encoded data removed]",
      "text/plain": [
       "<Figure size 576x360 with 2 Axes>"
      ]
     },
     "metadata": {
      "needs_background": "light"
     },
     "output_type": "display_data"
    }
   ],
   "source": [
    "import json\n",
    "with open('./results1/test.json', 'r') as fp:\n",
    "    test_results = json.load(fp)\n",
    "\n",
    "name_to_int = {v:k for k,v in test_data.class_names.items()}\n",
    "name_to_int\n",
    "\n",
    "ground_truth = []\n",
    "predict_label = []\n",
    "predict_score = []\n",
    "for k, v in test_results['results'].items():\n",
    "    ground_truth.append(name_to_int[k[2:-8]])\n",
    "    predict_label.append(name_to_int[v[0]['label']])\n",
    "    predict_score.append(v[0]['score'])\n",
    "\n",
    "from sklearn.metrics import accuracy_score, classification_report, confusion_matrix\n",
    "print(\"General Accuracy: {}\\n\".format(accuracy_score(ground_truth, predict_label)))\n",
    "print(classification_report(ground_truth, predict_label, target_names=list(test_data.class_names.values())))\n",
    "\n",
    "cm = confusion_matrix(ground_truth, predict_label, labels=list(test_data.class_names.keys()))\n",
    "import seaborn as sns\n",
    "import matplotlib.pyplot as plt     \n",
    "\n",
    "fig=plt.figure(figsize=(8, 5))\n",
    "\n",
    "ax = plt.subplot()\n",
    "sns.heatmap(cm, annot=True, ax = ax); #annot=True to annotate cells\n",
    "\n",
    "# labels, title and ticks\n",
    "ax.set_xlabel('Predicted labels');\n",
    "ax.set_ylabel('True labels'); \n",
    "ax.set_title('Confusion Matrix'); \n",
    "ax.xaxis.set_ticklabels(list(test_data.class_names.values()), rotation=30); \n",
    "ax.yaxis.set_ticklabels(list(test_data.class_names.values()), rotation=0);"
   ]
  },
  {
   "cell_type": "markdown",
   "metadata": {},
   "source": [
    "#### Performance of the new combined model in hw5"
   ]
  },
  {
   "cell_type": "code",
   "execution_count": 17,
   "metadata": {},
   "outputs": [
    {
     "name": "stdout",
     "output_type": "stream",
     "text": [
      "General Accuracy: 0.9932432432432432\n",
      "\n",
      "               precision    recall  f1-score   support\n",
      "\n",
      " PlayingCello       1.00      1.00      1.00        16\n",
      "   PlayingDaf       1.00      1.00      1.00        17\n",
      "  PlayingDhol       1.00      0.95      0.98        21\n",
      " PlayingFlute       1.00      1.00      1.00        20\n",
      "PlayingGuitar       1.00      1.00      1.00        16\n",
      " PlayingPiano       1.00      1.00      1.00        12\n",
      " PlayingSitar       1.00      1.00      1.00        20\n",
      " PlayingTabla       0.93      1.00      0.97        14\n",
      "PlayingViolin       1.00      1.00      1.00        12\n",
      "\n",
      "     accuracy                           0.99       148\n",
      "    macro avg       0.99      0.99      0.99       148\n",
      " weighted avg       0.99      0.99      0.99       148\n",
      "\n"
     ]
    },
    {
     "data": {
      "image/png": "[encoded data removed]",
      "text/plain": [
       "<Figure size 576x360 with 2 Axes>"
      ]
     },
     "metadata": {
      "needs_background": "light"
     },
     "output_type": "display_data"
    }
   ],
   "source": [
    "# get ground-truth split\n",
    "name_to_int = {v:k for k,v in test_data.class_names.items()}\n",
    "\n",
    "split_idx = []\n",
    "for idx, y_name in enumerate(y_test):\n",
    "    if idx == 0 or y_name != y_test[idx-1]:\n",
    "        split_idx.append(idx)\n",
    "\n",
    "y_pred_test = []\n",
    "for i, split in enumerate(split_idx):\n",
    "    if i < len(split_idx) - 1:\n",
    "        y_pred_test.append(np.argmax(np.mean(y_test_prob[split:split_idx[i+1]], axis=0)))\n",
    "        \n",
    "# Display the testing results\n",
    "acc = accuracy_score(ground_truth, y_pred_test)\n",
    "\n",
    "from sklearn.metrics import accuracy_score, classification_report, confusion_matrix\n",
    "print(\"General Accuracy: {}\\n\".format(accuracy_score(ground_truth, y_pred_test)))\n",
    "print(classification_report(ground_truth, y_pred_test, target_names=list(test_data.class_names.values())))\n",
    "\n",
    "cm = confusion_matrix(ground_truth, y_pred_test, labels=list(test_data.class_names.keys()))\n",
    "import seaborn as sns\n",
    "import matplotlib.pyplot as plt     \n",
    "\n",
    "fig=plt.figure(figsize=(8, 5))\n",
    "\n",
    "ax = plt.subplot()\n",
    "sns.heatmap(cm, annot=True, ax = ax); #annot=True to annotate cells\n",
    "\n",
    "# labels, title and ticks\n",
    "ax.set_xlabel('Predicted labels');\n",
    "ax.set_ylabel('True labels'); \n",
    "ax.set_title('Confusion Matrix'); \n",
    "ax.xaxis.set_ticklabels(list(test_data.class_names.values()), rotation=30); \n",
    "ax.yaxis.set_ticklabels(list(test_data.class_names.values()), rotation=0);"
   ]
  },
  {
   "cell_type": "markdown",
   "metadata": {},
   "source": [
    "#### Performance of the seperate models in hw5"
   ]
  },
  {
   "cell_type": "markdown",
   "metadata": {},
   "source": [
    "##### ResNeXt-101 feature + linearSVM"
   ]
  },
  {
   "cell_type": "code",
   "execution_count": 18,
   "metadata": {},
   "outputs": [
    {
     "name": "stdout",
     "output_type": "stream",
     "text": [
      "General Accuracy: 0.9594594594594594\n",
      "\n",
      "               precision    recall  f1-score   support\n",
      "\n",
      " PlayingCello       0.89      1.00      0.94        16\n",
      "   PlayingDaf       1.00      1.00      1.00        17\n",
      "  PlayingDhol       1.00      0.81      0.89        21\n",
      " PlayingFlute       1.00      1.00      1.00        20\n",
      "PlayingGuitar       1.00      1.00      1.00        16\n",
      " PlayingPiano       1.00      0.83      0.91        12\n",
      " PlayingSitar       1.00      1.00      1.00        20\n",
      " PlayingTabla       0.78      1.00      0.88        14\n",
      "PlayingViolin       1.00      1.00      1.00        12\n",
      "\n",
      "     accuracy                           0.96       148\n",
      "    macro avg       0.96      0.96      0.96       148\n",
      " weighted avg       0.97      0.96      0.96       148\n",
      "\n"
     ]
    },
    {
     "data": {
      "image/png": "[encoded data removed]",
      "text/plain": [
       "<Figure size 576x360 with 2 Axes>"
      ]
     },
     "metadata": {
      "needs_background": "light"
     },
     "output_type": "display_data"
    }
   ],
   "source": [
    "# get ground-truth split\n",
    "name_to_int = {v:k for k,v in test_data.class_names.items()}\n",
    "\n",
    "split_idx = []\n",
    "for idx, y_name in enumerate(y_test):\n",
    "    if idx == 0 or y_name != y_test[idx-1]:\n",
    "        split_idx.append(idx)\n",
    "\n",
    "y_pred_test = []\n",
    "for i, split in enumerate(split_idx):\n",
    "    if i < len(split_idx) - 1:\n",
    "        y_pred_test.append(np.argmax(np.mean(y_test_prob1[split:split_idx[i+1]], axis=0)))\n",
    "        \n",
    "# Display the testing results\n",
    "acc = accuracy_score(ground_truth, y_pred_test)\n",
    "\n",
    "from sklearn.metrics import accuracy_score, classification_report, confusion_matrix\n",
    "print(\"General Accuracy: {}\\n\".format(accuracy_score(ground_truth, y_pred_test)))\n",
    "print(classification_report(ground_truth, y_pred_test, target_names=list(test_data.class_names.values())))\n",
    "\n",
    "cm = confusion_matrix(ground_truth, y_pred_test, labels=list(test_data.class_names.keys()))\n",
    "import seaborn as sns\n",
    "import matplotlib.pyplot as plt     \n",
    "\n",
    "fig=plt.figure(figsize=(8, 5))\n",
    "\n",
    "ax = plt.subplot()\n",
    "sns.heatmap(cm, annot=True, ax = ax); #annot=True to annotate cells\n",
    "\n",
    "# labels, title and ticks\n",
    "ax.set_xlabel('Predicted labels');\n",
    "ax.set_ylabel('True labels');\n",
    "ax.set_title('Confusion Matrix'); \n",
    "ax.xaxis.set_ticklabels(list(test_data.class_names.values()), rotation=30); \n",
    "ax.yaxis.set_ticklabels(list(test_data.class_names.values()), rotation=0);"
   ]
  },
  {
   "cell_type": "markdown",
   "metadata": {},
   "source": [
    "##### Resnet-50 feature + linearSVM"
   ]
  },
  {
   "cell_type": "code",
   "execution_count": 19,
   "metadata": {},
   "outputs": [
    {
     "name": "stdout",
     "output_type": "stream",
     "text": [
      "General Accuracy: 0.8851351351351351\n",
      "\n",
      "               precision    recall  f1-score   support\n",
      "\n",
      " PlayingCello       1.00      0.75      0.86        16\n",
      "   PlayingDaf       1.00      1.00      1.00        17\n",
      "  PlayingDhol       0.87      0.95      0.91        21\n",
      " PlayingFlute       0.94      0.80      0.86        20\n",
      "PlayingGuitar       1.00      1.00      1.00        16\n",
      " PlayingPiano       1.00      1.00      1.00        12\n",
      " PlayingSitar       0.81      0.85      0.83        20\n",
      " PlayingTabla       0.83      0.71      0.77        14\n",
      "PlayingViolin       0.61      0.92      0.73        12\n",
      "\n",
      "     accuracy                           0.89       148\n",
      "    macro avg       0.90      0.89      0.88       148\n",
      " weighted avg       0.90      0.89      0.89       148\n",
      "\n"
     ]
    },
    {
     "data": {
      "image/png": "[encoded data removed]",
      "text/plain": [
       "<Figure size 576x360 with 2 Axes>"
      ]
     },
     "metadata": {
      "needs_background": "light"
     },
     "output_type": "display_data"
    }
   ],
   "source": [
    "# get ground-truth split\n",
    "name_to_int = {v:k for k,v in test_data.class_names.items()}\n",
    "\n",
    "split_idx = []\n",
    "for idx, y_name in enumerate(y_test):\n",
    "    if idx == 0 or y_name != y_test[idx-1]:\n",
    "        split_idx.append(idx)\n",
    "\n",
    "y_pred_test = []\n",
    "for i, split in enumerate(split_idx):\n",
    "    if i < len(split_idx) - 1:\n",
    "        y_pred_test.append(np.argmax(np.mean(y_test_prob2[split:split_idx[i+1]], axis=0)))\n",
    "        \n",
    "# Display the testing results\n",
    "acc = accuracy_score(ground_truth, y_pred_test)\n",
    "\n",
    "from sklearn.metrics import accuracy_score, classification_report, confusion_matrix\n",
    "print(\"General Accuracy: {}\\n\".format(accuracy_score(ground_truth, y_pred_test)))\n",
    "print(classification_report(ground_truth, y_pred_test, target_names=list(test_data.class_names.values())))\n",
    "\n",
    "cm = confusion_matrix(ground_truth, y_pred_test, labels=list(test_data.class_names.keys()))\n",
    "import seaborn as sns\n",
    "import matplotlib.pyplot as plt     \n",
    "\n",
    "fig=plt.figure(figsize=(8, 5))\n",
    "\n",
    "ax = plt.subplot()\n",
    "sns.heatmap(cm, annot=True, ax = ax); #annot=True to annotate cells\n",
    "\n",
    "# labels, title and ticks\n",
    "ax.set_xlabel('Predicted labels');\n",
    "ax.set_ylabel('True labels');\n",
    "ax.set_title('Confusion Matrix'); \n",
    "ax.xaxis.set_ticklabels(list(test_data.class_names.values()), rotation=30); \n",
    "ax.yaxis.set_ticklabels(list(test_data.class_names.values()), rotation=0);"
   ]
  },
  {
   "cell_type": "code",
   "execution_count": null,
   "metadata": {},
   "outputs": [],
   "source": []
  }
 ],
 "metadata": {
  "kernelspec": {
   "display_name": "csce689",
   "language": "python",
   "name": "csce689"
  },
  "language_info": {
   "codemirror_mode": {
    "name": "ipython",
    "version": 3
   },
   "file_extension": ".py",
   "mimetype": "text/x-python",
   "name": "python",
   "nbconvert_exporter": "python",
   "pygments_lexer": "ipython3",
   "version": "3.6.2"
  }
 },
 "nbformat": 4,
 "nbformat_minor": 4
}
